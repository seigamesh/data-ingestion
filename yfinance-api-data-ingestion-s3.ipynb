{
 "cells": [
  {
   "cell_type": "code",
   "execution_count": 19,
   "id": "e46625db-b5ff-4ab3-a7f8-41dda31dde68",
   "metadata": {},
   "outputs": [],
   "source": [
    "import yfinance as yf\n",
    "import datetime\n",
    "import boto3\n",
    "from io import StringIO"
   ]
  },
  {
   "cell_type": "code",
   "execution_count": 27,
   "id": "2f8cbf1b-ffd0-4a42-b650-fefec9cfdb2c",
   "metadata": {},
   "outputs": [
    {
     "name": "stderr",
     "output_type": "stream",
     "text": [
      "[*********************100%%**********************]  1 of 1 completed\n",
      "[*********************100%%**********************]  1 of 1 completed\n",
      "[*********************100%%**********************]  1 of 1 completed\n",
      "[*********************100%%**********************]  1 of 1 completed\n",
      "[*********************100%%**********************]  1 of 1 completed\n",
      "[*********************100%%**********************]  1 of 1 completed\n",
      "[*********************100%%**********************]  1 of 1 completed\n",
      "[*********************100%%**********************]  1 of 1 completed\n",
      "[*********************100%%**********************]  1 of 1 completed\n"
     ]
    }
   ],
   "source": [
    "ticker_list = [\"^GSPC\", \"^IXIC\", \"NVDA\", \"AAPL\", \"PLTR\", \"MSFT\", \"GOOGL\", \"PSTG\", \"TSLA\"]\n",
    "\n",
    "def save_yfinance_data(ticker, start_date, end_date):\n",
    "\n",
    "    df_hist = yf.download(ticker, start=start_date, end=end_date)\n",
    "    df_hist['Ticker'] = ticker\n",
    "    df_hist = df_hist\n",
    "\n",
    "    #print(f\"{df_hist['Date'].tail(1)}\")\n",
    "\n",
    "    # Convert the DataFrame to a CSV string\n",
    "    csv_buffer = StringIO()\n",
    "    df_hist.to_csv(csv_buffer, index = False)\n",
    "    \n",
    "    # Create an S3 resource\n",
    "    s3_resource = boto3.resource('s3')\n",
    "    \n",
    "    # Your S3 Bucket name\n",
    "    # Define the S3 location\n",
    "    bucket_name = 'aws-datalake-finance'\n",
    "    key = f'yfinance/price-daily/stock_price_{ticker}_{datetime.datetime.now()}.csv'  # Specify your filename\n",
    "    \n",
    "    # Create an S3 client\n",
    "    s3_client = boto3.client('s3')\n",
    "    \n",
    "    # Upload the CSV string to S3\n",
    "    s3_client.put_object(Body=csv_buffer.getvalue(), Bucket=bucket_name, Key=key)\n",
    "\n",
    "    return \n",
    "\n",
    "for ticker in ticker_list:\n",
    "    save_yfinance_data(ticker, \"2022-01-01\", \"2024-04-20\")"
   ]
  },
  {
   "cell_type": "code",
   "execution_count": null,
   "id": "63a86a12-2a9f-4adc-8942-a7b23c13ae27",
   "metadata": {},
   "outputs": [],
   "source": []
  }
 ],
 "metadata": {
  "kernelspec": {
   "display_name": "Python 3 (ipykernel)",
   "language": "python",
   "name": "python3"
  },
  "language_info": {
   "codemirror_mode": {
    "name": "ipython",
    "version": 3
   },
   "file_extension": ".py",
   "mimetype": "text/x-python",
   "name": "python",
   "nbconvert_exporter": "python",
   "pygments_lexer": "ipython3",
   "version": "3.9.6"
  }
 },
 "nbformat": 4,
 "nbformat_minor": 5
}
