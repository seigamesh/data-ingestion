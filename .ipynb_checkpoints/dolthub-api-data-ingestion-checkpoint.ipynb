{
 "cells": [
  {
   "cell_type": "code",
   "execution_count": 59,
   "id": "5a626a4f-6a75-4069-aa3b-cb982571f3a3",
   "metadata": {},
   "outputs": [],
   "source": [
    "import datetime\n",
    "import boto3\n",
    "from io import StringIO"
   ]
  },
  {
   "cell_type": "code",
   "execution_count": 63,
   "id": "eb29ab48-82d9-419f-8eb3-967c2153c1bb",
   "metadata": {},
   "outputs": [],
   "source": [
    "# Create an S3 resource\n",
    "s3_resource = boto3.resource('s3')\n",
    "# Your S3 Bucket name\n",
    "bucket_name = 'aws-datalake-finance'\n",
    "# Create an S3 client\n",
    "s3_client = boto3.client('s3')\n",
    "\n",
    "\n",
    "def save_dolthub_earnings_data(ticker):\n",
    "\n",
    "    # URL of the DoltHub SQL endpoint\n",
    "    url = f\"https://www.dolthub.com/api/v1alpha1/post-no-preference/earnings/master?q=SELECT+*%0AFROM+%60earnings_calendar%60%0AWHERE++%60date%60+%3E+%272000-12-31%27%0AAND+%60act_symbol%60+%3D+%27{ticker}%27%0AORDER+BY+%60date%60+ASC%3B%0A\"\n",
    "    # Make the HTTP GET request\n",
    "    response = requests.get(url)\n",
    "\n",
    "    # Check if the request was successful\n",
    "    if response.status_code == 200:\n",
    "        # Parse the JSON response\n",
    "        data = response.json()\n",
    "\n",
    "        # Check if the data contains 'rows' key\n",
    "        if 'rows' in data and data['rows']:\n",
    "            # Convert the list of dictionaries to a DataFrame\n",
    "            df = pd.DataFrame(data['rows'])\n",
    "\n",
    "            # Convert the DataFrame to a CSV string\n",
    "            csv_buffer = StringIO()\n",
    "            df.to_csv(csv_buffer)\n",
    "\n",
    "            # Define the S3 location\n",
    "            key = f'dolthub/finance-api/earnings/earnings_{ticker}_{datetime.datetime.now()}.csv'\n",
    "        \n",
    "            # Upload the CSV string to S3\n",
    "            s3_client.put_object(Body=csv_buffer.getvalue(), Bucket=bucket_name, Key=key)\n",
    "            print(f\"{ticker} saved\")\n",
    "    \n",
    "        else:\n",
    "            print(\"No data found in the response.\")\n",
    "\n",
    "    else:\n",
    "        print(\"Failed to retrieve data: Status code\", response.status_code)\n",
    "\n",
    "    \n",
    "    return \n"
   ]
  },
  {
   "cell_type": "code",
   "execution_count": 64,
   "id": "90989cbf-9b1e-4079-99f9-11e7f4b81e00",
   "metadata": {},
   "outputs": [
    {
     "name": "stdout",
     "output_type": "stream",
     "text": [
      "NVDA saved\n",
      "AAPL saved\n",
      "PLTR saved\n",
      "MSFT saved\n",
      "GOOGL saved\n",
      "PSTG saved\n",
      "TSLA saved\n"
     ]
    }
   ],
   "source": [
    "ticker_list = [\"NVDA\", \"AAPL\", \"PLTR\", \"MSFT\", \"GOOGL\", \"PSTG\", \"TSLA\"]\n",
    "\n",
    "for ticker in ticker_list:\n",
    "    \n",
    "    save_dolthub_earnings_data(ticker)"
   ]
  },
  {
   "cell_type": "code",
   "execution_count": null,
   "id": "e1196d46-2f23-4389-babc-4a5e55b84a08",
   "metadata": {},
   "outputs": [],
   "source": []
  }
 ],
 "metadata": {
  "kernelspec": {
   "display_name": "Python 3 (ipykernel)",
   "language": "python",
   "name": "python3"
  },
  "language_info": {
   "codemirror_mode": {
    "name": "ipython",
    "version": 3
   },
   "file_extension": ".py",
   "mimetype": "text/x-python",
   "name": "python",
   "nbconvert_exporter": "python",
   "pygments_lexer": "ipython3",
   "version": "3.9.6"
  }
 },
 "nbformat": 4,
 "nbformat_minor": 5
}
